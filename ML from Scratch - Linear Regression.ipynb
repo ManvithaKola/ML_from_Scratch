{
 "cells": [
  {
   "cell_type": "markdown",
   "metadata": {},
   "source": [
    "# Gradient Descent From Scratch"
   ]
  },
  {
   "cell_type": "code",
   "execution_count": 3,
   "metadata": {},
   "outputs": [],
   "source": [
    "#Choose a cost function of 2 variables : x0, x1\n",
    "#f(x) = 3*x0**2 + 4*x1**2 - 5*x0 + 7"
   ]
  },
  {
   "cell_type": "code",
   "execution_count": 4,
   "metadata": {},
   "outputs": [],
   "source": [
    "def funct(x):\n",
    "    return 3*x[0]**2 + 4*x[1]**2 - 5*x[0] + 7"
   ]
  },
  {
   "cell_type": "code",
   "execution_count": 5,
   "metadata": {},
   "outputs": [],
   "source": [
    "def slope(x):\n",
    "    s = [0]*2 #Initialize an array\n",
    "    s[0] = 6*x[0]-5 # Partial derivative w.r.t x0\n",
    "    s[1] = 8*x[1] # Partial derivative w.r.t x1\n",
    "    return s"
   ]
  },
  {
   "cell_type": "code",
   "execution_count": 6,
   "metadata": {},
   "outputs": [],
   "source": [
    "def gradient_decent(new_weights, prev_weights, learning_rate):\n",
    "    print(prev_weights)\n",
    "    print(funct(prev_weights))\n",
    "    while True:\n",
    "        prev_weights = new_weights\n",
    "        w0 = prev_weights[0] - learning_rate*slope(prev_weights)[0]\n",
    "        w1 = prev_weights[1] - learning_rate*slope(prev_weights)[1]\n",
    "        new_weights = [w0,w1] #Updating both weights simultaneously\n",
    "        print(new_weights)\n",
    "        print(funct(new_weights))\n",
    "        #Breaking the loop if there is no significant difference in cost\n",
    "        if (new_weights[0] - prev_weights[0])**2 + (new_weights[1] - prev_weights[1])**2 < pow(10, -6):\n",
    "            break\n",
    "        \n",
    "        "
   ]
  },
  {
   "cell_type": "code",
   "execution_count": 7,
   "metadata": {},
   "outputs": [
    {
     "name": "stdout",
     "output_type": "stream",
     "text": [
      "[5, 10]\n",
      "457\n",
      "[4.25, 7.6]\n",
      "270.97749999999996\n",
      "[3.635, 5.776]\n",
      "161.91337899999996\n",
      "[3.1307, 4.38976]\n",
      "97.83031890039999\n",
      "[2.717174, 3.3362176]\n",
      "60.08462513702703\n",
      "[2.37808268, 2.535525376]\n",
      "37.790974028107705\n",
      "[2.1000277976, 1.92699928576]\n",
      "24.583516253356322\n",
      "[1.872022794032, 1.4645194571776]\n",
      "16.732563015773216\n",
      "[1.68505869110624, 1.113034787454976]\n",
      "12.048360674226597\n",
      "[1.5317481267071167, 0.8459064384657817]\n",
      "9.242247148028154\n",
      "[1.4060334638998357, 0.6428888932339941]\n",
      "7.553847501493853\n",
      "[1.3029474403978654, 0.48859555885783557]\n",
      "6.533181375871123\n",
      "[1.2184169011262496, 0.37133262473195505]\n",
      "5.9130864019803235\n",
      "[1.1491018589235247, 0.28221279479628586]\n",
      "5.534372198113799\n",
      "[1.0922635243172902, 0.21448172404517724]\n",
      "5.301810837873198\n",
      "[1.045656089940178, 0.1630061102743347]\n",
      "5.158193493533129\n",
      "[1.007437993750946, 0.12388464380849437]\n",
      "5.068993584890293\n",
      "[0.9760991548757756, 0.09415232929445572]\n",
      "5.013271550515018\n",
      "[0.950401306998136, 0.07155577026378634]\n",
      "4.978262311072791\n",
      "[0.9293290717384715, 0.05438238540047762]\n",
      "4.956141987409894\n",
      "[0.9120498388255466, 0.04133061290436299]\n",
      "4.9420884096295845\n",
      "[0.8978808678369482, 0.031411265807315875]\n",
      "4.933112489776624\n",
      "[0.8862623116262975, 0.023872562013560066]\n",
      "4.927350693764443\n",
      "[0.876735095533564, 0.01814314713030565]\n",
      "4.9236345007040905\n",
      "[0.8689227783375225, 0.013788791819032295]\n",
      "4.9212270155731\n",
      "[0.8625166782367685, 0.010479481782464543]\n",
      "4.919660947679641\n",
      "[0.8572636761541501, 0.007964406154673052]\n",
      "4.918638377650819\n",
      "[0.8529562144464031, 0.00605294867755152]\n",
      "4.917968391806973\n",
      "[0.8494240958460506, 0.004600240994939156]\n",
      "4.917528053450235\n",
      "[0.8465277585937615, 0.0034961831561537583]\n",
      "4.917237838427171\n",
      "[0.8441527620468844, 0.0026570991986768562]\n",
      "4.917046087484336\n",
      "[0.8422052648784452, 0.0020193953909944107]\n",
      "4.9169191120056706\n",
      "[0.840608317200325, 0.001534740497155752]\n",
      "4.916834864551037\n",
      "[0.8392988201042665, 0.0011664027778383716]\n",
      "4.91677886974567\n",
      "[0.8382250324854985, 0.0008864661111571625]\n",
      "4.9167415961171175\n",
      "[0.8373445266381088, 0.0006737142444794435]\n",
      "4.916716751245383\n"
     ]
    }
   ],
   "source": [
    "gradient_decent([5,10],[5,10],0.03)"
   ]
  },
  {
   "cell_type": "markdown",
   "metadata": {},
   "source": [
    "# Linear Regression from Scratch"
   ]
  },
  {
   "cell_type": "code",
   "execution_count": 10,
   "metadata": {},
   "outputs": [],
   "source": [
    "#Generate a random regression problem.\n",
    "from sklearn.datasets import make_regression"
   ]
  },
  {
   "cell_type": "code",
   "execution_count": 11,
   "metadata": {},
   "outputs": [],
   "source": [
    "X, y = make_regression(n_samples = 200, n_features = 1, n_informative=1, noise=6,bias=30, random_state=200)"
   ]
  },
  {
   "cell_type": "code",
   "execution_count": 12,
   "metadata": {},
   "outputs": [
    {
     "data": {
      "image/png": "[encoded data removed]",
      "text/plain": [
       "<Figure size 432x288 with 1 Axes>"
      ]
     },
     "metadata": {
      "needs_background": "light"
     },
     "output_type": "display_data"
    }
   ],
   "source": [
    "from matplotlib import pyplot as plt\n",
    "plt.scatter(X,y)\n",
    "plt.xlabel(\"X\")\n",
    "plt.ylabel(\"y\")\n",
    "plt.show()"
   ]
  },
  {
   "cell_type": "code",
   "execution_count": 13,
   "metadata": {},
   "outputs": [],
   "source": [
    "# y = mx + c => y = w1*(input values) + w0\n",
    "import numpy as np\n",
    "def linear_model(X,w):\n",
    "    return(w[1]*np.array(X[:,0]) + w[0])"
   ]
  },
  {
   "cell_type": "code",
   "execution_count": 19,
   "metadata": {},
   "outputs": [],
   "source": [
    "#Defining Cost function:\n",
    "def cost(w,X,y):\n",
    "    return (1/(2*m))*np.sum(np.square(linear_model(X,w) - np.array(y)))"
   ]
  },
  {
   "cell_type": "code",
   "execution_count": 16,
   "metadata": {},
   "outputs": [],
   "source": [
    "#Gradient Descent\n",
    "def slope(w,X,y):\n",
    "    g = [0]*2\n",
    "    g[0] = (1/m)*np.sum(linear_model(X,w)-np.array(y))\n",
    "    g[1] = (1/m)*np.sum((linear_model(X,w)-np.array(y))*np.array(X[:,0]))\n",
    "    return g\n",
    "m = 200 #No of samples    "
   ]
  },
  {
   "cell_type": "code",
   "execution_count": 23,
   "metadata": {},
   "outputs": [],
   "source": [
    "def gradient_decent(new_weights, prev_weights, learning_rate):\n",
    "    print(prev_weights)\n",
    "    print(cost(prev_weights,X,y))\n",
    "    j = 0\n",
    "    while True:\n",
    "        prev_weights = new_weights\n",
    "        w0 = prev_weights[0] - learning_rate*slope(prev_weights,X,y)[0]\n",
    "        w1 = prev_weights[1] - learning_rate*slope(prev_weights,X,y)[1]\n",
    "        new_weights = [w0,w1] #Updating both weights simultaneously\n",
    "        print(new_weights)\n",
    "        print(cost(new_weights,X,y))\n",
    "        #Breaking the loop if there is no significant difference in cost\n",
    "        if (new_weights[0] - prev_weights[0])**2 + (new_weights[1] - prev_weights[1])**2 < pow(10, -6):\n",
    "            return new_weights\n",
    "        if j>500:\n",
    "            return new_weights\n",
    "        j += 1\n",
    "            "
   ]
  },
  {
   "cell_type": "code",
   "execution_count": 22,
   "metadata": {},
   "outputs": [
    {
     "name": "stdout",
     "output_type": "stream",
     "text": [
      "[0, -1]\n",
      "540.5360663843456\n",
      "[3.0956308633447547, 0.11442770988081663]\n",
      "437.91139336428444\n",
      "[5.873446610978822, 1.1023454281382854]\n",
      "355.5039050187037\n",
      "[8.366165526017987, 1.9778657783247602]\n",
      "289.3267499184995\n",
      "[10.603129563187093, 2.753547324958939]\n",
      "236.1799750745718\n",
      "[12.610653489037027, 3.440564026385428]\n",
      "193.49509649539323\n",
      "[14.412337853388406, 4.048856351454087]\n",
      "159.2103901995911\n",
      "[16.0293495446536, 4.587266032213945]\n",
      "131.6708284668908\n",
      "[17.480673291820082, 5.063656213710697]\n",
      "109.54778810165583\n",
      "[18.7833371265594, 5.485018573380515]\n",
      "91.77462156224563\n",
      "[19.952614505935692, 5.857568814053481]\n",
      "77.49495508304668\n",
      "[21.002205515744066, 6.186831784078626]\n",
      "66.02119816099949\n",
      "[21.944399323224108, 6.4777173436470505]\n",
      "56.801246289923824\n",
      "[22.79021982273288, 6.734587976310905]\n",
      "49.39175789964725\n",
      "[23.549556216205993, 6.961319037445921]\n",
      "43.436706577550574\n",
      "[24.23128008944935, 7.1613524356181975]\n",
      "38.6501664442448\n",
      "[24.843350383306017, 7.337744457271138]\n",
      "34.802494555336104\n",
      "[25.39290751357782, 7.493208368754656]\n",
      "31.709239459080347\n",
      "[25.88635776349851, 7.630152361500887]\n",
      "29.22223761683571\n",
      "[26.329448955986066, 7.750713345236864]\n",
      "27.22246575546644\n",
      "[26.727338308440384, 7.85678703973609]\n",
      "25.614302554322332\n",
      "[27.084653279240058, 7.950054767051352]\n",
      "24.320921533807876\n",
      "[27.405546131200424, 8.032007302818467]\n",
      "23.280591944370723\n",
      "[27.69374286207346, 8.10396610651881]\n",
      "22.443708530267372\n",
      "[27.952587084793493, 8.167102216040767]\n",
      "21.77040640846802\n",
      "[28.1850793797893, 8.222453061042739]\n",
      "21.22864568158778\n",
      "[28.393912587566714, 8.270937422096216]\n",
      "20.792673176173675\n",
      "[28.581503461264624, 8.313368738022628]\n",
      "20.44178697219165\n",
      "[28.75002105541824, 8.350466941915155]\n",
      "20.159344055135406\n",
      "[28.901412188203544, 8.382868986773879]\n",
      "19.93196319200716\n",
      "[29.03742427951789, 8.411138204226754]\n",
      "19.74888457866804\n",
      "[29.159625835953786, 8.435772624233959]\n",
      "19.601455387770752\n",
      "[29.2694248256702, 8.45721236977788]\n",
      "19.482716431969585\n",
      "[29.368085161021078, 8.475846228144906]\n",
      "19.387070041859424\n",
      "[29.45674148426251, 8.492017489347575]\n",
      "19.310013179228125\n",
      "[29.536412431457247, 8.506029132372674]\n",
      "19.24792295396926\n",
      "[29.60801253158606, 8.518148431144402]\n",
      "19.19788424005612\n",
      "[29.672362881642048, 8.528611044246796]\n",
      "19.157551114830053\n",
      "[29.73020072393229, 8.537624645454327]\n",
      "19.125035474814123\n",
      "[29.782188038766204, 8.545372145882025]\n",
      "19.09881748922257\n",
      "[29.828919254015993, 8.552014553005522]\n",
      "19.077673602614112\n",
      "[29.87092816255075, 8.557693506843796]\n",
      "19.06061864154971\n",
      "[29.90869412914744, 8.562533529178292]\n",
      "19.046859257450855\n",
      "[29.942647660055936, 8.566644017743355]\n",
      "19.035756481849372\n",
      "[29.97317540084111, 8.57012101381262]\n",
      "19.026795607153897\n",
      "[30.000624621352255, 8.573048768478005]\n",
      "19.019561957024997\n",
      "[30.025307240597662, 8.57550113013079]\n",
      "19.013721392385282\n",
      "[30.047503438857856, 8.577542773171217]\n",
      "19.009004625587373\n",
      "[30.067464899489234, 8.579230285760998]\n",
      "19.005194597236063\n",
      "[30.085417718492856, 8.580613132462974]\n",
      "19.00211631637512\n",
      "[30.101565015998244, 8.581734505857439]\n",
      "18.99962868224005\n",
      "[30.11608928029284, 8.582632079662158]\n",
      "18.99761790019706\n",
      "[30.12915447187187, 8.583338674491873]\n",
      "18.995992180371438\n",
      "[30.14090791215345, 8.583882846154577]\n",
      "18.994677468461337\n",
      "[30.151481978966018, 8.584289405279359]\n",
      "18.993614007260764\n",
      "[30.160995628639302, 8.58457987608947]\n",
      "18.99275356682987\n",
      "[30.169555762489143, 8.584772901261081]\n",
      "18.992057212939287\n",
      "[30.177258453655917, 8.584884599031389]\n",
      "18.991493508895633\n",
      "[30.184190048614877, 8.584928878028586]\n",
      "18.991037066345022\n",
      "[30.190428156204195, 8.584917714681556]\n",
      "18.99066737713041\n",
      "[30.196042535696083, 8.584861397520429]\n",
      "18.99036787153328\n",
      "[30.201095894251807, 8.584768742193141]\n",
      "18.990125158892102\n",
      "[30.205644603039065, 8.58464728059093]\n",
      "18.989928415168315\n",
      "[30.20973934033721, 8.584503427091704]\n",
      "18.98976888893204\n",
      "[30.21342566910097, 8.58434262458882]\n",
      "18.98963950279431\n",
      "[30.216744555686475, 8.584169472669567]\n",
      "18.989534531782173\n",
      "[30.219732835755565, 8.58398784003826]\n",
      "18.9894493437512\n",
      "[30.22242363275721, 8.583800963039536]\n",
      "18.989380189826502\n",
      "[30.22484673383125, 8.583611531925033]\n",
      "18.989324035195228\n",
      "[30.227028927482966, 8.583421766317985]\n",
      "18.989278422451623\n",
      "[30.228994306931416, 8.583233481162887]\n",
      "18.98924136120799\n",
      "[30.23076454263459, 8.583048144298838]\n",
      "18.98921123890338\n",
      "[30.23235912713573, 8.582866926663364]\n",
      "18.98918674872298\n",
      "[30.233795595053294, 8.582690746016727]\n",
      "18.98916683133221\n",
      "[30.235089720748128, 8.582520304973011]\n",
      "18.989150627766747\n",
      "[30.23625569594233, 8.582356124032495]\n",
      "18.98913744133326\n",
      "[30.237306289331627, 8.582198570228412]\n",
      "18.989126706789886\n",
      "[30.238252990024396, 8.582047881929046]\n",
      "18.98911796540923\n",
      "[30.238252990024396, 8.582047881929046]\n"
     ]
    }
   ],
   "source": [
    "w = [0,-1]\n",
    "w = gradient_decent(w,w,0.1)\n",
    "print(w)"
   ]
  },
  {
   "cell_type": "code",
   "execution_count": 24,
   "metadata": {},
   "outputs": [],
   "source": [
    "def graph(formula, xrange):\n",
    "    x = np.array(xrange)\n",
    "    y = formula(x)\n",
    "    plt.plot(x,y)"
   ]
  },
  {
   "cell_type": "code",
   "execution_count": 25,
   "metadata": {},
   "outputs": [],
   "source": [
    "def line(x):\n",
    "    return w[0]+w[1]*x"
   ]
  },
  {
   "cell_type": "code",
   "execution_count": 27,
   "metadata": {},
   "outputs": [
    {
     "data": {
      "image/png": "[encoded data removed]",
      "text/plain": [
       "<Figure size 432x288 with 1 Axes>"
      ]
     },
     "metadata": {
      "needs_background": "light"
     },
     "output_type": "display_data"
    }
   ],
   "source": [
    "plt.scatter(X,y, c=\"red\")\n",
    "graph(line,range(-4,4))\n",
    "plt.xlabel(\"X\")\n",
    "plt.ylabel(\"Y\")\n",
    "plt.show()"
   ]
  },
  {
   "cell_type": "code",
   "execution_count": null,
   "metadata": {},
   "outputs": [],
   "source": []
  }
 ],
 "metadata": {
  "kernelspec": {
   "display_name": "Python 3",
   "language": "python",
   "name": "python3"
  },
  "language_info": {
   "codemirror_mode": {
    "name": "ipython",
    "version": 3
   },
   "file_extension": ".py",
   "mimetype": "text/x-python",
   "name": "python",
   "nbconvert_exporter": "python",
   "pygments_lexer": "ipython3",
   "version": "3.8.5"
  }
 },
 "nbformat": 4,
 "nbformat_minor": 4
}
