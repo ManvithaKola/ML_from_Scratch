{
 "cells": [
  {
   "cell_type": "code",
   "execution_count": 1,
   "metadata": {},
   "outputs": [],
   "source": [
    "import numpy as np\n",
    "import pandas as pd\n",
    "import matplotlib.pyplot as plt\n",
    "import math"
   ]
  },
  {
   "cell_type": "code",
   "execution_count": 2,
   "metadata": {},
   "outputs": [],
   "source": [
    "df = pd.read_csv(\"weather.csv\")"
   ]
  },
  {
   "cell_type": "code",
   "execution_count": 3,
   "metadata": {},
   "outputs": [
    {
     "data": {
      "text/html": [
       "<div>\n",
       "<style scoped>\n",
       "    .dataframe tbody tr th:only-of-type {\n",
       "        vertical-align: middle;\n",
       "    }\n",
       "\n",
       "    .dataframe tbody tr th {\n",
       "        vertical-align: top;\n",
       "    }\n",
       "\n",
       "    .dataframe thead th {\n",
       "        text-align: right;\n",
       "    }\n",
       "</style>\n",
       "<table border=\"1\" class=\"dataframe\">\n",
       "  <thead>\n",
       "    <tr style=\"text-align: right;\">\n",
       "      <th></th>\n",
       "      <th>Outlook</th>\n",
       "      <th>Temp</th>\n",
       "      <th>Humidity</th>\n",
       "      <th>Windy</th>\n",
       "      <th>Play</th>\n",
       "    </tr>\n",
       "  </thead>\n",
       "  <tbody>\n",
       "    <tr>\n",
       "      <th>0</th>\n",
       "      <td>Rainy</td>\n",
       "      <td>Hot</td>\n",
       "      <td>High</td>\n",
       "      <td>f</td>\n",
       "      <td>no</td>\n",
       "    </tr>\n",
       "    <tr>\n",
       "      <th>1</th>\n",
       "      <td>Rainy</td>\n",
       "      <td>Hot</td>\n",
       "      <td>High</td>\n",
       "      <td>t</td>\n",
       "      <td>no</td>\n",
       "    </tr>\n",
       "    <tr>\n",
       "      <th>2</th>\n",
       "      <td>Overcast</td>\n",
       "      <td>Hot</td>\n",
       "      <td>High</td>\n",
       "      <td>f</td>\n",
       "      <td>yes</td>\n",
       "    </tr>\n",
       "    <tr>\n",
       "      <th>3</th>\n",
       "      <td>Sunny</td>\n",
       "      <td>Mild</td>\n",
       "      <td>High</td>\n",
       "      <td>f</td>\n",
       "      <td>yes</td>\n",
       "    </tr>\n",
       "    <tr>\n",
       "      <th>4</th>\n",
       "      <td>Sunny</td>\n",
       "      <td>Cool</td>\n",
       "      <td>Normal</td>\n",
       "      <td>f</td>\n",
       "      <td>yes</td>\n",
       "    </tr>\n",
       "  </tbody>\n",
       "</table>\n",
       "</div>"
      ],
      "text/plain": [
       "    Outlook  Temp Humidity Windy Play\n",
       "0     Rainy   Hot     High     f   no\n",
       "1     Rainy   Hot     High     t   no\n",
       "2  Overcast   Hot     High     f  yes\n",
       "3     Sunny  Mild     High     f  yes\n",
       "4     Sunny  Cool   Normal     f  yes"
      ]
     },
     "execution_count": 3,
     "metadata": {},
     "output_type": "execute_result"
    }
   ],
   "source": [
    "df.head()"
   ]
  },
  {
   "cell_type": "code",
   "execution_count": 4,
   "metadata": {},
   "outputs": [],
   "source": [
    "def partition_features(df):\n",
    "    X = df.drop([df.columns[-1]], axis=1)\n",
    "    y = df[df.columns[-1]]\n",
    "    return X,y"
   ]
  },
  {
   "cell_type": "code",
   "execution_count": 5,
   "metadata": {},
   "outputs": [],
   "source": [
    "X,y = partition_features(df)"
   ]
  },
  {
   "cell_type": "code",
   "execution_count": 6,
   "metadata": {},
   "outputs": [
    {
     "name": "stdout",
     "output_type": "stream",
     "text": [
      "no\n",
      "yes\n"
     ]
    }
   ],
   "source": [
    "for outcome in np.unique(y):\n",
    "    print(outcome)"
   ]
  },
  {
   "cell_type": "code",
   "execution_count": 7,
   "metadata": {},
   "outputs": [
    {
     "data": {
      "text/plain": [
       "14"
      ]
     },
     "execution_count": 7,
     "metadata": {},
     "output_type": "execute_result"
    }
   ],
   "source": [
    "y.shape[0]"
   ]
  },
  {
   "cell_type": "code",
   "execution_count": 9,
   "metadata": {},
   "outputs": [
    {
     "data": {
      "text/plain": [
       "{'no': 0.357, 'yes': 0.643}"
      ]
     },
     "execution_count": 9,
     "metadata": {},
     "output_type": "execute_result"
    }
   ],
   "source": [
    "#Calculate the prior probability of each class\n",
    "def calc_prior_prob(y):\n",
    "    class_prior = {}\n",
    "    for outcome in np.unique(y):\n",
    "        outcome_count = sum(y==outcome)\n",
    "        class_prior[outcome] = round(outcome_count/y.shape[0],3)\n",
    "    return class_prior\n",
    "\n",
    "class_prior = calc_prior_prob(y)\n",
    "class_prior"
   ]
  },
  {
   "cell_type": "code",
   "execution_count": 10,
   "metadata": {},
   "outputs": [
    {
     "name": "stdout",
     "output_type": "stream",
     "text": [
      "Outlook {'Rainy_no': 0.6, 'Sunny_no': 0.4, 'Overcast_yes': 0.44, 'Sunny_yes': 0.33, 'Rainy_yes': 0.22}\n",
      "Temp {'Mild_no': 0.4, 'Hot_no': 0.4, 'Cool_no': 0.2, 'Mild_yes': 0.44, 'Cool_yes': 0.33, 'Hot_yes': 0.22}\n",
      "Humidity {'High_no': 0.8, 'Normal_no': 0.2, 'Normal_yes': 0.67, 'High_yes': 0.33}\n",
      "Windy {'t_no': 0.6, 'f_no': 0.4, 'f_yes': 0.67, 't_yes': 0.33}\n"
     ]
    }
   ],
   "source": [
    "#Calculating likelihood for all the features\n",
    "likelihoods = {}\n",
    "def calc_likelihood():\n",
    "    for feature in X:\n",
    "        likelihoods[feature] = {}\n",
    "        for outcome in np.unique(y):\n",
    "            outcome_count = sum(y==outcome)\n",
    "            feature_likelihood = X[feature][y[y == outcome].index.values.tolist()].value_counts().to_dict()\n",
    "            for feature_value, count in feature_likelihood.items():\n",
    "                likelihoods[feature][feature_value + '_' + outcome] = round(count/outcome_count,2)\n",
    "    for key in likelihoods:\n",
    "        print(key, likelihoods[key])\n",
    "        \n",
    "calc_likelihood()"
   ]
  },
  {
   "cell_type": "code",
   "execution_count": 11,
   "metadata": {},
   "outputs": [
    {
     "name": "stdout",
     "output_type": "stream",
     "text": [
      "Outlook {'Sunny': 0.36, 'Rainy': 0.36, 'Overcast': 0.29}\n",
      "Temp {'Mild': 0.43, 'Cool': 0.29, 'Hot': 0.29}\n",
      "Humidity {'Normal': 0.5, 'High': 0.5}\n",
      "Windy {'f': 0.57, 't': 0.43}\n"
     ]
    }
   ],
   "source": [
    "pred_priors = {}\n",
    "def calc_predictor_prior():\n",
    "    for feature in X:\n",
    "        pred_priors[feature] = {}\n",
    "        feat_vals = X[feature].value_counts().to_dict()\n",
    "        for feat_val, count in feat_vals.items():\n",
    "            pred_priors[feature][feat_val] = round(count/X.shape[0],2)\n",
    "    for key in pred_priors:\n",
    "        print(key,pred_priors[key])\n",
    "calc_predictor_prior()"
   ]
  },
  {
   "cell_type": "code",
   "execution_count": 12,
   "metadata": {},
   "outputs": [],
   "source": [
    "class_priors = {}\n",
    "pred_priors = {}\n",
    "likelihoods = {}\n",
    "class_prior = {}\n",
    "features = list(X.columns)\n",
    "def fit(X, y):\n",
    "    features = list(X.columns)\n",
    "    X_train = X\n",
    "    y_train = y\n",
    "    train_size = X.shape[0]\n",
    "    num_feats = X.shape[1]\n",
    "    for feature in features:\n",
    "        likelihoods[feature] = {}\n",
    "        pred_priors[feature] = {}\n",
    "        for feat_val in np.unique(X_train[feature]):\n",
    "            pred_priors[feature].update({feat_val: 0})\n",
    "            for outcome in np.unique(y_train):\n",
    "                class_priors.update({outcome: 0})\n",
    "    \n",
    "    for outcome in np.unique(y):\n",
    "        outcome_count = sum(y==outcome)\n",
    "        class_prior[outcome] = round(outcome_count/y.shape[0],3)\n",
    "        \n",
    "    for feature in X:\n",
    "        likelihoods[feature] = {}\n",
    "        for outcome in np.unique(y):\n",
    "            outcome_count = sum(y==outcome)\n",
    "            feature_likelihood = X[feature][y[y == outcome].index.values.tolist()].value_counts().to_dict()\n",
    "            for feature_value, count in feature_likelihood.items():\n",
    "                likelihoods[feature][feature_value + '_' + outcome] = round(count/outcome_count,2)         \n",
    "    for feature in X:\n",
    "        feat_vals = X[feature].value_counts().to_dict()\n",
    "        for feat_val, count in feat_vals.items():\n",
    "            pred_priors[feature][feat_val] = count/y.shape[0]"
   ]
  },
  {
   "cell_type": "code",
   "execution_count": 13,
   "metadata": {},
   "outputs": [],
   "source": [
    "fit(X, y)"
   ]
  },
  {
   "cell_type": "code",
   "execution_count": 14,
   "metadata": {},
   "outputs": [],
   "source": [
    "def predict(X):\n",
    "    results = []\n",
    "    X = np.array(X)\n",
    "    for query in X:\n",
    "        probs_outcome = {}\n",
    "        for outcome in np.unique(y):\n",
    "            prior = class_priors[outcome]\n",
    "            likelihood = 1\n",
    "            evidence = 1\n",
    "            for feat, feat_val in zip(features, query):\n",
    "                likelihood *= likelihoods[feat][feat_val + '_' + outcome]\n",
    "                evidence *= pred_priors[feat][feat_val]\n",
    "                posterior = (likelihood * prior) / (evidence)\n",
    "                probs_outcome[outcome] = posterior\n",
    "        result = max(probs_outcome, key = lambda x: probs_outcome[x])\n",
    "        results.append(result)\n",
    "    return np.array(results)"
   ]
  },
  {
   "cell_type": "code",
   "execution_count": 15,
   "metadata": {},
   "outputs": [
    {
     "data": {
      "text/plain": [
       "array(['no'], dtype='<U2')"
      ]
     },
     "execution_count": 15,
     "metadata": {},
     "output_type": "execute_result"
    }
   ],
   "source": [
    "query = np.array([['Rainy','Mild', 'Normal', 't']])\n",
    "predict(query)"
   ]
  },
  {
   "cell_type": "code",
   "execution_count": 16,
   "metadata": {},
   "outputs": [
    {
     "data": {
      "text/plain": [
       "array(['no'], dtype='<U2')"
      ]
     },
     "execution_count": 16,
     "metadata": {},
     "output_type": "execute_result"
    }
   ],
   "source": [
    "query = np.array([['Sunny','Hot', 'High', 't']])\n",
    "predict(query)"
   ]
  },
  {
   "cell_type": "code",
   "execution_count": null,
   "metadata": {},
   "outputs": [],
   "source": []
  },
  {
   "cell_type": "code",
   "execution_count": null,
   "metadata": {},
   "outputs": [],
   "source": []
  }
 ],
 "metadata": {
  "kernelspec": {
   "display_name": "Python 3",
   "language": "python",
   "name": "python3"
  },
  "language_info": {
   "codemirror_mode": {
    "name": "ipython",
    "version": 3
   },
   "file_extension": ".py",
   "mimetype": "text/x-python",
   "name": "python",
   "nbconvert_exporter": "python",
   "pygments_lexer": "ipython3",
   "version": "3.8.5"
  }
 },
 "nbformat": 4,
 "nbformat_minor": 4
}
